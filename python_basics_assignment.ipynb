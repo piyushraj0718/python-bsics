{
  "nbformat": 4,
  "nbformat_minor": 0,
  "metadata": {
    "colab": {
      "provenance": []
    },
    "kernelspec": {
      "name": "python3",
      "display_name": "Python 3"
    },
    "language_info": {
      "name": "python"
    }
  },
  "cells": [
    {
      "cell_type": "markdown",
      "source": [
        "1:- what is python and why is it popular ?\n",
        "\n",
        "answer :- Python is a high-level programming language and it is used to create various programmes.\n",
        "It is popular due to its easy syntax, vast libraries, and versatility in fields like web development, data science, AI, and automation. Its strong community support and cross-platform compatibility make it widely used ."
      ],
      "metadata": {
        "id": "SnUrsaj0EswS"
      }
    },
    {
      "cell_type": "markdown",
      "source": [
        "2 :- What is an interpreter in Python ?\n",
        "\n",
        "answer :- An interpreter in Python is a program that executes Python code line by line, converting it into machine-readable instructions.it makes debugging easier and devlopment faster."
      ],
      "metadata": {
        "id": "nmlzHcHkEsif"
      }
    },
    {
      "cell_type": "markdown",
      "source": [
        "3. What are pre-defined keywords in Python ?\n",
        "\n",
        "answer :- Pre-defined keywords in Python are reserved words that have special meanings and cannot be used as variable names, function names, or identifiers.\n",
        "\n",
        "for example :- if, elif,def, from etc..."
      ],
      "metadata": {
        "id": "zFa4N7dWGh9M"
      }
    },
    {
      "cell_type": "markdown",
      "source": [
        "4. Can keywords be used as variable names ?\n",
        "\n",
        "answer:-  keywords cannot be used as variable names in Python. Using a keyword as a variable name will result in a SyntaxError."
      ],
      "metadata": {
        "id": "FYpMztveHSCB"
      }
    },
    {
      "cell_type": "markdown",
      "source": [
        "5. What is mutability in Python ?\n",
        "\n",
        "answer :- In python mutability means ability of object to change their values ."
      ],
      "metadata": {
        "id": "pj0BO6HIHR-a"
      }
    },
    {
      "cell_type": "markdown",
      "source": [
        "6. Why are lists mutable, but tuples are immutable ?\n",
        "\n",
        "answer :- list are mutable for storing dynamic data, meaning elements can be added, remover or changed.\n",
        "\n",
        "tuples are immutable to ensure data integrity and make it memory efficient."
      ],
      "metadata": {
        "id": "5sh9FtVvHR67"
      }
    },
    {
      "cell_type": "markdown",
      "source": [
        "7. What is the difference between “==” and “is” operators in Python ?\n",
        "\n",
        "answer :- '==' it Checks if two variables have the same value, regardless of their memory location. it used for value comparison .\n",
        "\n",
        "'is' -  it Checks if two variables refer to the exact same object in memory. it is used for object identity .\n",
        "\n"
      ],
      "metadata": {
        "id": "C8nZ_638HRuz"
      }
    },
    {
      "cell_type": "markdown",
      "source": [
        "8. What are Logical operators in python  ?\n",
        " answer :- Logical operators in Python are used to combine conditional statements and return True or False based on the conditions.\n",
        "\n",
        " and , or , not are three logical operators ."
      ],
      "metadata": {
        "id": "4EZZ7mVOK58V"
      }
    },
    {
      "cell_type": "markdown",
      "source": [
        "9. What is type casting in Python ?\n",
        "\n",
        "answer :- Type casting  in Python is the process of converting a variable from one data type to another.\n",
        "\n",
        "Type casting  in Python is the process of converting a variable from one data type to another."
      ],
      "metadata": {
        "id": "cr910NSKK5z0"
      }
    },
    {
      "cell_type": "markdown",
      "source": [
        "10. What is the difference between implicit and explicit type casting ?\n",
        "\n",
        "answer :- impicit type casting - Python automatically converts one data type to another.\n",
        "\n",
        "example ;- int to float conversion .\n",
        "\n",
        "explicit type casting - The user manually converts data types using built-in functions.\n",
        "\n",
        "example :- Converting str to int using int() function"
      ],
      "metadata": {
        "id": "CdGruwyLK5gW"
      }
    },
    {
      "cell_type": "markdown",
      "source": [
        "11. What is the purpose of conditional statements in Python ?\n",
        "\n",
        "answer :- conditional statements  help in executing different code blocks depending on whether a condition is True or False.\n",
        "\n",
        "Different statements (if, if-else, if-elif-else, nested if) provide flexibility."
      ],
      "metadata": {
        "id": "HNZbwgSkM7_y"
      }
    },
    {
      "cell_type": "markdown",
      "source": [
        "12. How does the elif statement work ?\n",
        "\n",
        "answer :- The elif statement is used when we  need to check multiple conditions sequentially. It allows a program to test multiple expressions, executing the first one that evaluates to True."
      ],
      "metadata": {
        "id": "HKJAqEl6M73D"
      }
    },
    {
      "cell_type": "markdown",
      "source": [
        "13. What is the difference between for and while loops ?\n",
        "\n",
        "answer :- both loops are used for iteration, but they work differently.\n",
        "\n",
        "for . -used when no. of iteration is known or fixed . it iterates over list, tuples, strings etc.\n",
        "\n",
        "while :- Used when the number of iterations is unknown and depends on a condition. it iterates as long as a condition is true."
      ],
      "metadata": {
        "id": "JOluzHHLM7zs"
      }
    },
    {
      "cell_type": "markdown",
      "source": [
        "14. Describe a scenario where a while loop is more suitable than a for loop.?\n",
        "\n",
        "answer :- A while loop is best when the number of iterations is unknown and depends on a condition.\n",
        "it can be used in user login system, game loop , user input, etc.\n",
        "\n",
        "A for loop is not ideal because it is best used for fixed iterations."
      ],
      "metadata": {
        "id": "VQMm-vtfP9pJ"
      }
    },
    {
      "cell_type": "markdown",
      "source": [
        "PRACTICAL QUESTIONS."
      ],
      "metadata": {
        "id": "67SicxkOQJiM"
      }
    },
    {
      "cell_type": "code",
      "source": [
        "# QUESTION 1 :-  Write a Python program to print \"Hello, World!\" ?\n",
        "\n",
        "print(\"Hello, World!\")"
      ],
      "metadata": {
        "colab": {
          "base_uri": "https://localhost:8080/"
        },
        "id": "7OlpAHTFQOhI",
        "outputId": "a18bb8d7-ae83-47f0-9733-be4a89f5cc21"
      },
      "execution_count": 2,
      "outputs": [
        {
          "output_type": "stream",
          "name": "stdout",
          "text": [
            "Hello, World!\n"
          ]
        }
      ]
    },
    {
      "cell_type": "code",
      "source": [
        "# QUESTION 2 :- Write a Python program that displays your name and age\n",
        "\n",
        "print(\"NAME :- Piyush Raj\")\n",
        "print(\"AGE :- 17 \")"
      ],
      "metadata": {
        "colab": {
          "base_uri": "https://localhost:8080/"
        },
        "id": "ybEbNwpgQibR",
        "outputId": "25b0af8d-e32f-4b52-9084-d372ca6c9d14"
      },
      "execution_count": 3,
      "outputs": [
        {
          "output_type": "stream",
          "name": "stdout",
          "text": [
            "NAME :- Piyush Raj\n",
            "AGE :- 17 \n"
          ]
        }
      ]
    },
    {
      "cell_type": "code",
      "source": [
        "# QUESTION 3 :- Write code to print all the pre-defined keywords in Python using the keyword library ?\n",
        "\n",
        "import keyword\n",
        "\n",
        "print(\" Python key words : \")\n",
        "print(keyword.kwlist)"
      ],
      "metadata": {
        "colab": {
          "base_uri": "https://localhost:8080/"
        },
        "id": "IAwv5fqwRDOt",
        "outputId": "1b473e2f-1c81-4a49-f476-9ce41575cc0b"
      },
      "execution_count": 6,
      "outputs": [
        {
          "output_type": "stream",
          "name": "stdout",
          "text": [
            " Python key words : \n",
            "['False', 'None', 'True', 'and', 'as', 'assert', 'async', 'await', 'break', 'class', 'continue', 'def', 'del', 'elif', 'else', 'except', 'finally', 'for', 'from', 'global', 'if', 'import', 'in', 'is', 'lambda', 'nonlocal', 'not', 'or', 'pass', 'raise', 'return', 'try', 'while', 'with', 'yield']\n"
          ]
        }
      ]
    },
    {
      "cell_type": "code",
      "source": [
        "# QUESTION 4 :- Write a program that checks if a given word is a Python keyword.\n",
        "\n",
        "import keyword\n",
        "word = input(\"Enter a word to check: \")\n",
        "\n",
        "if word in keyword.kwlist:\n",
        "    print(f\"'{word}' is a Python keyword.\")\n",
        "else:\n",
        "    print(f\"'{word}' is NOT a Python keyword.\")"
      ],
      "metadata": {
        "colab": {
          "base_uri": "https://localhost:8080/"
        },
        "id": "wBL8Xo12RYtw",
        "outputId": "c02c472e-85ef-4b3c-b442-3438e931ebcb"
      },
      "execution_count": 7,
      "outputs": [
        {
          "output_type": "stream",
          "name": "stdout",
          "text": [
            "Enter a word to check: while\n",
            "'while' is a Python keyword.\n"
          ]
        }
      ]
    },
    {
      "cell_type": "code",
      "source": [
        "#QUESTION 5 :- . Create a list and tuple in Python, and demonstrate how attempting to change an element works differently\n",
        "#for each ?\n",
        "\n",
        "#CREATING A LIST\n",
        "\n",
        "list = [10,20,30]\n",
        "print(\"my list\" , list)\n",
        "\n",
        "#CHANGING AN ELEENT IN LIST\n",
        "\n",
        "list[2] = 88\n",
        "print(\"new list\", list)"
      ],
      "metadata": {
        "colab": {
          "base_uri": "https://localhost:8080/"
        },
        "id": "H8nk_J8NSjQO",
        "outputId": "aa9c7a6c-b23e-483d-c6b0-c3bc3bb4bd02"
      },
      "execution_count": 8,
      "outputs": [
        {
          "output_type": "stream",
          "name": "stdout",
          "text": [
            "my list [10, 20, 30]\n",
            "new list [10, 20, 88]\n"
          ]
        }
      ]
    },
    {
      "cell_type": "code",
      "source": [
        "# CREATING  A TUPLE\n",
        "\n",
        "tuple = (10,20,30)\n",
        "print(\"my tuple :-\", tuple)\n",
        "\n",
        "try:\n",
        "    tuple[1] = 99  # This will raise an error\n",
        "except TypeError as e:\n",
        "    print(\"Error:\", e)\n"
      ],
      "metadata": {
        "colab": {
          "base_uri": "https://localhost:8080/"
        },
        "id": "1DcyXch1TYam",
        "outputId": "b6139ae1-4a5d-4223-e2a1-46e52475a95d"
      },
      "execution_count": 10,
      "outputs": [
        {
          "output_type": "stream",
          "name": "stdout",
          "text": [
            "my tuple :- (10, 20, 30)\n",
            "Error: 'tuple' object does not support item assignment\n"
          ]
        }
      ]
    },
    {
      "cell_type": "code",
      "source": [
        "# QUESTION 6 :- Write a function to demonstrate the behavior of mutable and immutable arguments ?\n",
        "\n",
        "def modify(a, b):\n",
        "\n",
        "    a += 20\n",
        "    print(\" immutable :\", a)\n",
        "\n",
        "\n",
        "    b.append(99)\n",
        "    print(\" mutable: \", b)\n",
        "\n",
        "# Immutable variable (integer)\n",
        "x = 20\n",
        "\n",
        "# Mutable variable (list)\n",
        "y = [1, 2, 3]\n",
        "\n",
        "modify(x, y)\n",
        "\n",
        "# Checking values outside function\n",
        "print(\"\\n immutable :\", x)\n",
        "print(\" mutable :\", y)\n"
      ],
      "metadata": {
        "colab": {
          "base_uri": "https://localhost:8080/"
        },
        "id": "t8InyHhtT8w6",
        "outputId": "3be0de7f-66b8-4cd3-c95e-73a82ded02f8"
      },
      "execution_count": 13,
      "outputs": [
        {
          "output_type": "stream",
          "name": "stdout",
          "text": [
            " immutable : 40\n",
            " mutable:  [1, 2, 3, 99]\n",
            "\n",
            " immutable : 20\n",
            " mutable : [1, 2, 3, 99]\n"
          ]
        }
      ]
    },
    {
      "cell_type": "code",
      "source": [
        "# QUESTION 7 :- Write a program that performs basic arithmetic operations on two user-input numbers.?\n",
        "\n",
        "a = int(input(\"enter a number :- \"))\n",
        "b = int(input(\"enter another  number :- \"))\n",
        "\n",
        "print(\"\\naddition = \" ,a+b)\n",
        "print(\"subtraction = \", a-b)\n",
        "print(\"multiplication = \", a*b)\n",
        "print(\"division = \", a/b)\n"
      ],
      "metadata": {
        "colab": {
          "base_uri": "https://localhost:8080/"
        },
        "id": "CfyM-3rDVeA5",
        "outputId": "d468bc96-a071-4bd9-d0dc-62f1a99b9d82"
      },
      "execution_count": 20,
      "outputs": [
        {
          "output_type": "stream",
          "name": "stdout",
          "text": [
            "enter a number :- 2\n",
            "enter another  number :- 4\n",
            "\n",
            "addition =  6\n",
            "subtraction =  -2\n",
            "multiplication =  8\n",
            "division =  0.5\n"
          ]
        }
      ]
    },
    {
      "cell_type": "code",
      "source": [
        "# question 8 :- Write a program to demonstrate the use of logical operators.\n",
        "\n",
        "a = int(input(\"Enter first number: \"))\n",
        "b = int(input(\"Enter second number: \"))\n",
        "\n",
        "# Using logical operators\n",
        "print(\"\\n AND:\")\n",
        "print(f\"({a} > 0) and ({b} > 0):\", (a > 0) and (b > 0))  # True if both numbers are positive\n",
        "\n",
        "print(\"\\n OR:\")\n",
        "print(f\"({a} > 0) or ({b} > 0):\", (a > 0) or (b > 0))  # True if at least one is positive\n",
        "\n",
        "print(\"\\n NOT:\")\n",
        "print(f\"not({a} > 0):\", not(a > 0))  # True if 'a' is not positive\n"
      ],
      "metadata": {
        "colab": {
          "base_uri": "https://localhost:8080/"
        },
        "id": "580aS_XVVd4b",
        "outputId": "84227e54-47fe-49cd-8197-292b40e88031"
      },
      "execution_count": 21,
      "outputs": [
        {
          "output_type": "stream",
          "name": "stdout",
          "text": [
            "Enter first number: 22\n",
            "Enter second number: -6\n",
            "\n",
            " AND:\n",
            "(22 > 0) and (-6 > 0): False\n",
            "\n",
            " OR:\n",
            "(22 > 0) or (-6 > 0): True\n",
            "\n",
            " NOT:\n",
            "not(22 > 0): False\n"
          ]
        }
      ]
    },
    {
      "cell_type": "code",
      "source": [
        "# QUESTION 9 :- Write a Python program to convert user input from string to integer, float, and boolean types.\n",
        "\n",
        "user = str(input(\"enter a value :- \"))\n",
        "\n",
        "intvalue = int(user)\n",
        "print(\"integer value = \", intvalue)\n",
        "\n",
        "floatvalue = float(user)\n",
        "print(\"float value = \", floatvalue)\n",
        "\n",
        "boolvalue = bool(user)\n",
        "print(\"bool value = \", boolvalue)"
      ],
      "metadata": {
        "colab": {
          "base_uri": "https://localhost:8080/"
        },
        "id": "Oh_5omhVVdqS",
        "outputId": "9c2e4df9-19b7-41ab-84c0-9ef4de79b2ba"
      },
      "execution_count": 24,
      "outputs": [
        {
          "output_type": "stream",
          "name": "stdout",
          "text": [
            "enter a value :- 98\n",
            "integer value =  98\n",
            "float value =  98.0\n",
            "bool value =  True\n"
          ]
        }
      ]
    },
    {
      "cell_type": "code",
      "source": [
        "#QUESTION 10 :- Write code to demonstrate type casting with list elements.\n",
        "\n",
        "# List of string numbers\n",
        "str_list = [\"10\", \"20\", \"30\"]\n",
        "\n",
        "# Convert to integer\n",
        "int_list = [int(x) for x in str_list]\n",
        "print(\"Integer List:\", int_list)\n",
        "\n",
        "# Convert to float\n",
        "float_list = [float(x) for x in str_list]\n",
        "print(\"Float List:\", float_list)\n",
        "\n",
        "# Convert to boolean\n",
        "bool_list = [bool(x) for x in str_list]\n",
        "print(\"Boolean List:\", bool_list)"
      ],
      "metadata": {
        "colab": {
          "base_uri": "https://localhost:8080/"
        },
        "id": "BGfq-bCMZdJ-",
        "outputId": "14d97b90-bbee-4eb9-a55c-1a4ff26312c1"
      },
      "execution_count": 25,
      "outputs": [
        {
          "output_type": "stream",
          "name": "stdout",
          "text": [
            "Integer List: [10, 20, 30]\n",
            "Float List: [10.0, 20.0, 30.0]\n",
            "Boolean List: [True, True, True]\n"
          ]
        }
      ]
    },
    {
      "cell_type": "code",
      "source": [
        "#QUESTION 11 :-  Write a program that checks if a number is positive, negative, or zero.\n",
        "\n",
        "num = int(input(\"enter a number :-\"))\n",
        "\n",
        "if num > 0 :\n",
        "  print(num,\", it is a positive no.\")\n",
        "\n",
        "elif num == 0 :\n",
        "  print(num,\", it is zero\")\n",
        "\n",
        "else:\n",
        "  print(num,\", it is a negative no.\")"
      ],
      "metadata": {
        "colab": {
          "base_uri": "https://localhost:8080/"
        },
        "id": "lKcFFYBDaphZ",
        "outputId": "27b43955-f70f-4a92-c999-358d90e22b0f"
      },
      "execution_count": 27,
      "outputs": [
        {
          "output_type": "stream",
          "name": "stdout",
          "text": [
            "enter a number :--22\n",
            "-22 , it is a negative no,\n"
          ]
        }
      ]
    },
    {
      "cell_type": "code",
      "source": [
        "#question 12 :- Write a for loop to print numbers from 1 to 10.\n",
        "\n",
        "for num in range(1, 11):\n",
        "  print(num)"
      ],
      "metadata": {
        "colab": {
          "base_uri": "https://localhost:8080/"
        },
        "id": "hEtBy3uKapTu",
        "outputId": "4985a7e5-a9b7-40f8-96e5-cd197eb3e097"
      },
      "execution_count": 29,
      "outputs": [
        {
          "output_type": "stream",
          "name": "stdout",
          "text": [
            "1\n",
            "2\n",
            "3\n",
            "4\n",
            "5\n",
            "6\n",
            "7\n",
            "8\n",
            "9\n",
            "10\n"
          ]
        }
      ]
    },
    {
      "cell_type": "code",
      "source": [
        "# QUESTION 13 :- . Write a Python program to find the sum of all even numbers between 1 and 50.\n",
        "sum = 0\n",
        "for num in range(2,51,2):\n",
        "  sum  += num\n",
        "\n",
        "print(\"Sum of all even numbers between 1 and 50:\", sum)"
      ],
      "metadata": {
        "colab": {
          "base_uri": "https://localhost:8080/"
        },
        "id": "Ort3-NFcapF5",
        "outputId": "0bab30ab-b721-452f-94cf-5be278d0a0d8"
      },
      "execution_count": 30,
      "outputs": [
        {
          "output_type": "stream",
          "name": "stdout",
          "text": [
            "Sum of all even numbers between 1 and 50: 650\n"
          ]
        }
      ]
    },
    {
      "cell_type": "code",
      "source": [
        "# question 14 :- . Write a program to reverse a string using a while loop.\n",
        "\n",
        "string = input(\"enter a string :- \")\n",
        "\n",
        "reversed_string = \"\"\n",
        "\n",
        "\n",
        "index = len(string) - 1\n",
        "\n",
        "# Using a while loop to reverse the string\n",
        "while index >= 0:\n",
        "    reversed_string += string[index]  # Append character from the end\n",
        "    index -= 1  # Move to the previous character\n",
        "\n",
        "# Print the reversed string\n",
        "print(\"Reversed String:\", reversed_string)"
      ],
      "metadata": {
        "colab": {
          "base_uri": "https://localhost:8080/"
        },
        "id": "4dZI70BodbEX",
        "outputId": "b1fe55e7-a88c-4752-82ad-7c3617dc58a1"
      },
      "execution_count": 31,
      "outputs": [
        {
          "output_type": "stream",
          "name": "stdout",
          "text": [
            "enter a string :- piyush\n",
            "Reversed String: hsuyip\n"
          ]
        }
      ]
    },
    {
      "cell_type": "code",
      "source": [
        "#QUESTION 15 - Write a Python program to calculate the factorial of a number provided by the user using a while loop\n",
        "\n",
        "\n",
        "num = int(input(\"Enter a number: \"))\n",
        "\n",
        "\n",
        "factorial = 1\n",
        "\n",
        "i = num\n",
        "\n",
        "\n",
        "while i > 0:\n",
        "    factorial *= i\n",
        "    i -= 1  # Decrement counter\n",
        "\n",
        "# Print the result\n",
        "print(f\"Factorial of {num} is: {factorial}\")\n"
      ],
      "metadata": {
        "colab": {
          "base_uri": "https://localhost:8080/"
        },
        "id": "7wvoUlZOda4q",
        "outputId": "3aa44481-61bc-4e5c-9f95-d2057ef697ba"
      },
      "execution_count": 32,
      "outputs": [
        {
          "output_type": "stream",
          "name": "stdout",
          "text": [
            "Enter a number: 6\n",
            "Factorial of 6 is: 720\n"
          ]
        }
      ]
    },
    {
      "cell_type": "code",
      "source": [],
      "metadata": {
        "id": "hLmMk8qedas1"
      },
      "execution_count": null,
      "outputs": []
    }
  ]
}